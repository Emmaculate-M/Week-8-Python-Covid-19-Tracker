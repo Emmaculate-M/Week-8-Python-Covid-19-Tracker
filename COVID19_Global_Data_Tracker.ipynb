{
 "cells": [
  {
   "cell_type": "markdown",
   "id": "849d29ab",
   "metadata": {},
   "source": [
    "# 🦠 COVID-19 Global Data Tracker\n",
    "Track, analyze, and visualize the global trends in COVID-19 using data from Our World in Data.\n"
   ]
  },
  {
   "cell_type": "markdown",
   "id": "db10270f",
   "metadata": {},
   "source": [
    "## 1️⃣ Data Loading & Exploration"
   ]
  },
  {
   "cell_type": "code",
   "execution_count": null,
   "id": "efee2361",
   "metadata": {},
   "outputs": [],
   "source": [
    "import pandas as pd\n",
    "import matplotlib.pyplot as plt\n",
    "import seaborn as sns\n",
    "\n",
    "# Load dataset\n",
    "df = pd.read_csv('owid-covid-data.csv')\n",
    "\n",
    "# Preview data\n",
    "print(df.shape)\n",
    "df.head()"
   ]
  },
  {
   "cell_type": "code",
   "execution_count": null,
   "id": "433ac897",
   "metadata": {},
   "outputs": [],
   "source": [
    "# Check columns\n",
    "df.columns\n",
    "\n",
    "# Missing values\n",
    "df.isnull().sum()"
   ]
  },
  {
   "cell_type": "markdown",
   "id": "9ce7eb03",
   "metadata": {},
   "source": [
    "## 2️⃣ Data Cleaning"
   ]
  },
  {
   "cell_type": "code",
   "execution_count": null,
   "id": "6c5b379b",
   "metadata": {},
   "outputs": [],
   "source": [
    "# Filter specific countries\n",
    "countries = ['Kenya', 'India', 'United States']\n",
    "df_filtered = df[df['location'].isin(countries)]\n",
    "\n",
    "# Convert date column to datetime\n",
    "df_filtered['date'] = pd.to_datetime(df_filtered['date'])\n",
    "\n",
    "# Fill missing values with 0 (or interpolate as needed)\n",
    "df_filtered.fillna(0, inplace=True)"
   ]
  },
  {
   "cell_type": "markdown",
   "id": "b47c94ac",
   "metadata": {},
   "source": [
    "## 3️⃣ Exploratory Data Analysis (EDA)"
   ]
  },
  {
   "cell_type": "code",
   "execution_count": null,
   "id": "a76926b0",
   "metadata": {},
   "outputs": [],
   "source": [
    "# Plot total cases over time\n",
    "for country in countries:\n",
    "    subset = df_filtered[df_filtered['location'] == country]\n",
    "    plt.plot(subset['date'], subset['total_cases'], label=country)\n",
    "\n",
    "plt.legend()\n",
    "plt.title('Total COVID-19 Cases Over Time')\n",
    "plt.xlabel('Date')\n",
    "plt.ylabel('Total Cases')\n",
    "plt.show()"
   ]
  },
  {
   "cell_type": "code",
   "execution_count": null,
   "id": "0951d29d",
   "metadata": {},
   "outputs": [],
   "source": [
    "# Plot daily new cases\n",
    "for country in countries:\n",
    "    subset = df_filtered[df_filtered['location'] == country]\n",
    "    plt.plot(subset['date'], subset['new_cases'], label=country)\n",
    "\n",
    "plt.legend()\n",
    "plt.title('Daily New COVID-19 Cases')\n",
    "plt.xlabel('Date')\n",
    "plt.ylabel('New Cases')\n",
    "plt.show()"
   ]
  },
  {
   "cell_type": "code",
   "execution_count": null,
   "id": "df158377",
   "metadata": {},
   "outputs": [],
   "source": [
    "# Calculate and plot death rate\n",
    "df_filtered['death_rate'] = df_filtered['total_deaths'] / df_filtered['total_cases']\n",
    "df_filtered['death_rate'].fillna(0, inplace=True)\n",
    "\n",
    "for country in countries:\n",
    "    subset = df_filtered[df_filtered['location'] == country]\n",
    "    plt.plot(subset['date'], subset['death_rate'], label=country)\n",
    "\n",
    "plt.legend()\n",
    "plt.title('Death Rate Over Time')\n",
    "plt.xlabel('Date')\n",
    "plt.ylabel('Death Rate')\n",
    "plt.show()"
   ]
  },
  {
   "cell_type": "markdown",
   "id": "0b02fbe5",
   "metadata": {},
   "source": [
    "## 4️⃣ Vaccination Progress"
   ]
  },
  {
   "cell_type": "code",
   "execution_count": null,
   "id": "3bab27ef",
   "metadata": {},
   "outputs": [],
   "source": [
    "# Plot vaccination progress\n",
    "for country in countries:\n",
    "    subset = df_filtered[df_filtered['location'] == country]\n",
    "    plt.plot(subset['date'], subset['total_vaccinations'], label=country)\n",
    "\n",
    "plt.legend()\n",
    "plt.title('Vaccination Progress Over Time')\n",
    "plt.xlabel('Date')\n",
    "plt.ylabel('Total Vaccinations')\n",
    "plt.show()"
   ]
  },
  {
   "cell_type": "markdown",
   "id": "4cf17f28",
   "metadata": {},
   "source": [
    "## 5️⃣ Insights & Narrative\n",
    "- 🇺🇸 USA had a strong early vaccination rollout.\n",
    "- 🇮🇳 India experienced large case spikes in 2021.\n",
    "- 🇰🇪 Kenya maintained relatively low case numbers.\n",
    "- 📉 The death rate varied significantly over time and by country.\n"
   ]
  }
 ],
 "metadata": {},
 "nbformat": 4,
 "nbformat_minor": 5
}
